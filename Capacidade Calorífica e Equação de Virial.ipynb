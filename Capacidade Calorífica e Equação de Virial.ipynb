{
 "cells": [
  {
   "cell_type": "markdown",
   "id": "aa4d671b",
   "metadata": {},
   "source": [
    "# Integral_Cp_dT = $ \\int_{T_1}^{T_2} \\frac{C_p}{R} dT $ \n",
    "\n",
    "# Integral_Cp_dT_T = $ \\int_{T_1}^{T_2} \\frac{C_p}{R} \\frac{dT}{T} $ \n",
    "### $ \\frac{C_p}{R} = (a + b. T. 10^{-3} + c. T. 10^{-5} + \\frac{d}{T^{-2}}. 10^{5}) dT $"
   ]
  },
  {
   "cell_type": "code",
   "execution_count": 18,
   "id": "97a26dc4",
   "metadata": {},
   "outputs": [],
   "source": [
    "R_Energy = 8.314          #J/mol.K\n",
    "R_volum =  83.14          #cm3.bar/mol.K\n",
    "\n",
    "# Dados do Fluido:\n",
    "Tc    = 408.1\n",
    "Pc    = 36.48\n",
    "Vc    = 262.7\n",
    "w     = 0.181\n",
    "Zc    = 0.282\n",
    "Tn    = 261.4\n",
    "\n",
    "#Dados Antoine: a +b.10^-3.T + c.10^-6.T^2 +d.10^5.T^-2\n",
    "a = 1.677\n",
    "b = 37.853\n",
    "c = -11.945\n",
    "d = 0\n",
    "\n",
    "# T em Kelvin\n",
    "T_1 = 371.15\n",
    "T_2 = 950"
   ]
  },
  {
   "cell_type": "code",
   "execution_count": 19,
   "id": "5923bc9d",
   "metadata": {},
   "outputs": [
    {
     "name": "stdout",
     "output_type": "stream",
     "text": [
      "Integral_Cp_dT: \n",
      " 101717.77170790624 J/mol\n",
      "\n",
      "Integral_Cp_dT_T: \n",
      " 157.2999782634793 J/mol\n"
     ]
    }
   ],
   "source": [
    "from scipy.integrate import quad\n",
    "\n",
    "def Cp_dT(T, a, b, c, d):\n",
    "    return (a + b*(10**(-3))*T + c*T**2*(10**(-6)) + d*(10**(5))*(T**(-2)))\n",
    "def Cp_dT_T(T, a, b, c, d):\n",
    "    return (a + b*(10**(-3))*T + c*T**2*(10**(-6)) + d*(10**(5))*(T**(-2)))*T**-1\n",
    "\n",
    "Integral_Cp_dT = quad(Cp_dT, T_1, T_2, args = (a, b, c, d))\n",
    "\n",
    "Integral_Cp_dT_R = R_Energy * Integral_Cp_dT[0]\n",
    "\n",
    "print('Integral_Cp_dT: \\n' , Integral_Cp_dT_R, 'J/mol')\n",
    "\n",
    "\n",
    "Integral_Cp_dT_T = quad(Cp_dT_T, T_1, T_2, args = (a, b, c, d))\n",
    "\n",
    "Integral_Cp_dT_T_R = R_Energy * Integral_Cp_dT_T[0]\n",
    "\n",
    "print('\\nIntegral_Cp_dT_T: \\n' , Integral_Cp_dT_T_R, 'J/mol')"
   ]
  },
  {
   "cell_type": "markdown",
   "id": "2f08dc5c",
   "metadata": {},
   "source": [
    "**Equação de Virial truncada no segundo termo**\n",
    "\n",
    "# \\begin{array}{lll}\n",
    "B=\\frac{R T_c}{P_c}\\left(B^0+\\omega B^1\\right) & B^0=0,083-\\frac{0,422}{T_r^{1,6}} & B^1=0,139-\\frac{0,172}{T_r^{4,2}} \\\\\n",
    "\\frac{\\partial B}{\\partial T}=\\frac{R}{P_c}\\left(\\frac{d B^0}{d T_r}+\\omega \\frac{d B^1}{d T_r}\\right) & \\frac{\\partial B^0}{\\partial T_r}=\\frac{0,675}{T_r^{2,6}} & \\frac{\\partial B^1}{\\partial T_r}=\\frac{0,722}{T_r^{5,2}}\n",
    "\\end{array}"
   ]
  },
  {
   "cell_type": "code",
   "execution_count": 20,
   "id": "55b02e3e",
   "metadata": {},
   "outputs": [
    {
     "name": "stdout",
     "output_type": "stream",
     "text": [
      "B_T1: \n",
      " -399.3976533009544 cm3/mol \n",
      "B_T1 [J/mol]: \n",
      " -39.93976533009544 J/mol \n",
      " \n",
      "dB_dT1: \n",
      " 2.456764706287261 cm3/mol.K\n",
      "dB_dT1 [J/mol.K]: \n",
      " 0.24567647062872608 J/mol.K\n"
     ]
    }
   ],
   "source": [
    "B0_T1 = 0.083 - 0.422 / ((T_1/Tc)**(1.6))\n",
    "\n",
    "B1_T1 = 0.139 - 0.172 / ((T_1/Tc)**(4.2))\n",
    "    \n",
    "B_T1 = (R_volum * Tc / Pc) * (B0_T1 + w * B1_T1)\n",
    "\n",
    "print('B_T1: \\n' , B_T1, 'cm3/mol ')\n",
    "print('B_T1 [J/mol]: \\n' , B_T1 * R_Energy/R_volum , 'J/mol \\n ')\n",
    "\n",
    "dB0_dT1 = 0.675 / ((T_1/Tc)**(2.6))\n",
    "\n",
    "dB1_dT1 = 0.722 / ((T_1/Tc)**(5.2))\n",
    "\n",
    "dB_dT1 = (R_volum / Pc) * (dB0_dT1 + w * dB1_dT1)\n",
    "\n",
    "print('dB_dT1: \\n' , dB_dT1, 'cm3/mol.K')\n",
    "print('dB_dT1 [J/mol.K]: \\n' , dB_dT1 * R_Energy/R_volum, 'J/mol.K')"
   ]
  },
  {
   "cell_type": "code",
   "execution_count": null,
   "id": "a6896a8d",
   "metadata": {},
   "outputs": [],
   "source": []
  }
 ],
 "metadata": {
  "kernelspec": {
   "display_name": "Python 3 (ipykernel)",
   "language": "python",
   "name": "python3"
  },
  "language_info": {
   "codemirror_mode": {
    "name": "ipython",
    "version": 3
   },
   "file_extension": ".py",
   "mimetype": "text/x-python",
   "name": "python",
   "nbconvert_exporter": "python",
   "pygments_lexer": "ipython3",
   "version": "3.9.13"
  }
 },
 "nbformat": 4,
 "nbformat_minor": 5
}
